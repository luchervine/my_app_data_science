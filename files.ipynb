{
 "cells": [
  {
   "cell_type": "code",
   "execution_count": 3,
   "metadata": {},
   "outputs": [
    {
     "name": "stdout",
     "output_type": "stream",
     "text": [
      "         Date    Product  Quantity      Price     Customer\n",
      "0  2023-08-23  Product_1         6  54.064955  Customer_53\n",
      "1  2023-01-15  Product_6         2  77.963857  Customer_61\n",
      "2  2023-07-13  Product_9         4  26.990520  Customer_18\n",
      "3  2023-10-26  Product_5         7  47.318074  Customer_58\n",
      "4  2023-08-02  Product_2         8  47.513537  Customer_81\n"
     ]
    }
   ],
   "source": [
    "import text_file as tf\n",
    "\n",
    "df = tf.load_csv('datas/sales_data.csv')\n",
    "tf.display_head(df,5)"
   ]
  },
  {
   "cell_type": "code",
   "execution_count": null,
   "metadata": {},
   "outputs": [],
   "source": [
    "import streamlit as st\n",
    "import pandas as pd\n",
    "\n",
    "\n",
    "# Charger un fichier CSV\n",
    "@st.cache_data  # Utilisation du cache pour améliorer les performances\n",
    "def load_data():\n",
    "    data = pd.read_csv(\"datas/sales_data.csv\")\n",
    "    return data\n",
    "\n",
    "\n",
    "# Titre de l'application\n",
    "st.title(\"Application Streamlit pour l'analyse de données\")\n",
    "\n",
    "# Charger les données\n",
    "data = load_data()\n",
    "\n",
    "# Afficher les premières lignes du DataFrame\n",
    "st.write(\"Affichage des premières lignes du DataFrame :\")\n",
    "st.write(data.head())\n",
    "\n",
    "# Afficher un graphique\n",
    "st.write(\"Affichage d'un graphique:\")\n",
    "st.line_chart(data['Product'])\n",
    "\n",
    "# Ajouter un widget interactif (slider)\n",
    "selected_rows = st.slider(\"Sélectionnez un nombre de lignes :\", 1, 100, 10)\n",
    "st.write(f\"Affichage des premières {selected_rows} lignes du DataFrame :\")\n",
    "st.write(data.head(selected_rows))"
   ]
  }
 ],
 "metadata": {
  "kernelspec": {
   "display_name": ".venv",
   "language": "python",
   "name": "python3"
  },
  "language_info": {
   "codemirror_mode": {
    "name": "ipython",
    "version": 3
   },
   "file_extension": ".py",
   "mimetype": "text/x-python",
   "name": "python",
   "nbconvert_exporter": "python",
   "pygments_lexer": "ipython3",
   "version": "3.11.3"
  }
 },
 "nbformat": 4,
 "nbformat_minor": 2
}
